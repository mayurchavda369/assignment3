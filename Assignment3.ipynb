{
 "cells": [
  {
   "cell_type": "code",
   "execution_count": null,
   "id": "f6b9f417",
   "metadata": {},
   "outputs": [],
   "source": [
    "#What is List? How will you reverse a list? \n",
    "#Lists are used to store multiple items in a single variable. \n",
    "#Lists are one of 4 built-in data types in Python used to store collections of data, the other 3 are Tuple, Set, and Dictionary.\n",
    "#Lists are ordered, Indexing,Mutable, and allow duplicate values.\n",
    "#Ex:\n",
    "list=[1,2,3,4]\n",
    "list.reverse()\n",
    "print(list)"
   ]
  },
  {
   "cell_type": "code",
   "execution_count": null,
   "id": "68542e90",
   "metadata": {},
   "outputs": [],
   "source": [
    "#How will you remove last object from a list? \n",
    "#Suppose list1 is [2, 33, 222, 14, and 25], what is list1 [-1]?\n",
    "# use remove methods to remove the object from a list and given one argument.\n",
    " #ex:\n",
    "list1=[2,33,222,14,25]\n",
    "list1.remove(14)\n",
    "print(list1)\n",
    "#in a list1 element 14 is removed.\n",
    "#in a list1[-1] is 25."
   ]
  },
  {
   "cell_type": "code",
   "execution_count": null,
   "id": "2dbe0c77",
   "metadata": {},
   "outputs": [],
   "source": [
    "# Differentiate between append () and extend () methods?\n",
    "#append() method always adds a single element to the end of the list, it takes only one argument.\n",
    "#while the extend() method can add multiple elements at once,it takes multiple arguments."
   ]
  },
  {
   "cell_type": "code",
   "execution_count": null,
   "id": "656075ea",
   "metadata": {},
   "outputs": [],
   "source": [
    "#Write a Python function to get the largest number, smallest num and sum of all from a list.\n",
    "l1=[11,12,23,34,563]\n",
    "l1.sort(reverse=True)\n",
    "print('longest number:',l1[0])\n",
    "l1.sort()\n",
    "print('smallest number:',l1[0])\n",
    "print('sum of list:',sum(l1))"
   ]
  },
  {
   "cell_type": "code",
   "execution_count": null,
   "id": "5d14bc03",
   "metadata": {},
   "outputs": [],
   "source": [
    "#How will you compare two lists?\n",
    "l1=[1,2,3,4]\n",
    "l2=[4,7,9,1]\n",
    "\n",
    "if l1==l2:\n",
    "    print('true')\n",
    "else:\n",
    "    print('false')"
   ]
  },
  {
   "cell_type": "code",
   "execution_count": null,
   "id": "9db8c38d",
   "metadata": {},
   "outputs": [],
   "source": [
    "#Write a Python program to count the number of strings where the string \n",
    "#length is 2 or more and the first and last character are same from a given \n",
    "#list of strings. \n",
    "str=['hello','mayur','how','going','your','life']\n"
   ]
  },
  {
   "cell_type": "code",
   "execution_count": null,
   "id": "ecd58f40",
   "metadata": {},
   "outputs": [],
   "source": [
    "#Write a Python program to remove duplicates from a list.\n",
    "l1=['mayur','kumar','hello','kumar','mayur','dhoni','raina','yuvi']\n",
    "a=set(l1)\n",
    "print(a)\n"
   ]
  },
  {
   "cell_type": "code",
   "execution_count": null,
   "id": "9c3c5063",
   "metadata": {},
   "outputs": [],
   "source": [
    "#Write a Python program to check a list is empty or not. \n",
    "l1=[1,2,3,6,4]\n",
    "if len(l1)>0:\n",
    "    print('not empty')\n",
    "else:\n",
    "    print('empty')"
   ]
  },
  {
   "cell_type": "code",
   "execution_count": null,
   "id": "9dd220a7",
   "metadata": {},
   "outputs": [],
   "source": [
    "#Write a Python function that takes two lists and returns true if they have at least one common member.\n",
    "l1=[1,3,2,4,5,8,34,54]\n",
    "l2=[56,32,2,3,8,890,76,88]\n",
    "\n",
    "if l1 in l2 and l2==l1:\n",
    "    print('t')\n",
    "else:\n",
    "    print('f')"
   ]
  },
  {
   "cell_type": "code",
   "execution_count": null,
   "id": "038406d9",
   "metadata": {},
   "outputs": [],
   "source": [
    "#Write a Python program to generate and print a list of first and last 5 \n",
    "#elements where the values are square of numbers between 1 and 30.\n",
    "\n",
    "for i in range(1,6):\n",
    "    i=i**2\n",
    "    print(i, end=',')\n",
    "    \n",
    "for j in range(30,24,-1):\n",
    "    j=j**2\n",
    "    print(j,end=',')"
   ]
  },
  {
   "cell_type": "code",
   "execution_count": null,
   "id": "d696a8f8",
   "metadata": {},
   "outputs": [],
   "source": [
    "#Write a Python function that takes a list and returns a new list with unique elements of the first list.\n",
    "l1 = [1,3,4,4,5,9,89,77,90,3,55,66]\n",
    "\n",
    "unique_list = list(set(l1))\n",
    "\n",
    "print(unique_list)"
   ]
  },
  {
   "cell_type": "code",
   "execution_count": null,
   "id": "5222cab6",
   "metadata": {},
   "outputs": [],
   "source": [
    "# Write a Python program to convert a list of characters into a string. \n",
    "\n",
    "l1=['m','a','y','u','r']\n",
    "str=''.join(l1)\n",
    "print(str)"
   ]
  },
  {
   "cell_type": "code",
   "execution_count": null,
   "id": "2bc58bc3",
   "metadata": {},
   "outputs": [],
   "source": [
    "#Write a Python program to select an item randomly from a list. \n",
    "import random\n",
    "l1=[1,2,3,4,5]\n",
    "ran=random.choice(l1)\n",
    "print(ran)"
   ]
  },
  {
   "cell_type": "code",
   "execution_count": null,
   "id": "0537415d",
   "metadata": {},
   "outputs": [],
   "source": [
    "#Write a Python program to find the second smallest number in a list.\n",
    "l1=[22,99,44,55,87,12]\n",
    "l1.sort()\n",
    "print(l1)\n",
    "print(l1[1])"
   ]
  },
  {
   "cell_type": "code",
   "execution_count": null,
   "id": "1136c2e2",
   "metadata": {},
   "outputs": [],
   "source": [
    "#Write a Python program to get unique values from a list.\n",
    "l1=[33,55,66,33,12,78,99,76,234,88,99,33]\n",
    "a=list(set(l1))\n",
    "print(a)"
   ]
  },
  {
   "cell_type": "code",
   "execution_count": null,
   "id": "41f1a246",
   "metadata": {},
   "outputs": [],
   "source": [
    "#Write a Python program to check whether a list contains a sub list.\n",
    "l1=[1,2,3,4,8,9,11]\n",
    "l2=[2,5,3,4,7,8,9]\n",
    "if l2 == l1:\n",
    "    print('true')\n",
    "else:\n",
    "    print('false')"
   ]
  },
  {
   "cell_type": "code",
   "execution_count": 28,
   "id": "2d2a2a37",
   "metadata": {},
   "outputs": [
    {
     "name": "stdout",
     "output_type": "stream",
     "text": [
      "1 22 33 66 77 88\n"
     ]
    }
   ],
   "source": [
    "#Write a Python program to split a list into different variables.\n",
    "l1=[1,22,33,66,77,88]\n",
    "m,a,y,u,r,c = l1\n",
    "print(m,a,y,u,r,c)"
   ]
  },
  {
   "cell_type": "code",
   "execution_count": null,
   "id": "e6c56439",
   "metadata": {},
   "outputs": [],
   "source": [
    "#What is tuple? Difference between list and tuple.\n",
    "#A tuple is a collection of ordered, immutable elements. \n",
    "# Diffrence between list & tuple is list is mutuable and tuple is immutable.\n",
    "# second diffrence is list write as '[]' and tuple is write as '()'.\n",
    "# if you write in list [1] it shows a type is list but if you write in tuple (1) it returns a type of value not tuple."
   ]
  },
  {
   "cell_type": "code",
   "execution_count": null,
   "id": "bd66e113",
   "metadata": {},
   "outputs": [],
   "source": [
    "#Write a Python program to create a tuple with different data types.\n",
    "tup1=(1,2.2,'hello',[1,2,3],{1,2},True)\n",
    "print(tup1)"
   ]
  },
  {
   "cell_type": "code",
   "execution_count": null,
   "id": "791a5739",
   "metadata": {},
   "outputs": [],
   "source": [
    "#Write a Python program to create a tuple with numbers.\n",
    "tup1 = (111, 29, 32, 432, 55)\n",
    "print(tup1)"
   ]
  },
  {
   "cell_type": "code",
   "execution_count": null,
   "id": "891e01fa",
   "metadata": {},
   "outputs": [],
   "source": [
    "#write a Python program to convert a tuple to a string. \n",
    "tup1=(\"mayur\",\"dhoni\",\"sehwag\",\"yui\")\n",
    "a=str(tup1)\n",
    "print(a)\n",
    "type(a)"
   ]
  },
  {
   "cell_type": "code",
   "execution_count": null,
   "id": "6eac8bf4",
   "metadata": {},
   "outputs": [],
   "source": [
    "#Write a Python program to check whether an element exists within a tuple. \n",
    "tup1=('hello',1,2,3,'ok','good')\n",
    "element='ok'\n",
    "\n",
    "if element in tup1:\n",
    "    print('yes its exist')\n",
    "else:\n",
    "    print('not exist')"
   ]
  },
  {
   "cell_type": "code",
   "execution_count": null,
   "id": "caa19e6b",
   "metadata": {},
   "outputs": [],
   "source": [
    "#Write a Python program to find the length of a tuple. \n",
    "tup1=('hello',1,2,3,'ok','good')\n",
    "len(tup1)"
   ]
  },
  {
   "cell_type": "code",
   "execution_count": null,
   "id": "803cfe55",
   "metadata": {},
   "outputs": [],
   "source": [
    "#Write a Python program to convert a list to a tuple.\n",
    "list=['hello',1,2,3,'ok','good']\n",
    "a=tuple(list)\n",
    "print(a)"
   ]
  },
  {
   "cell_type": "code",
   "execution_count": null,
   "id": "d7417c33",
   "metadata": {},
   "outputs": [],
   "source": [
    "#Write a Python program to reverse a tuple.\n",
    "list=[1,2,99,'long','mayur','sky',11]\n",
    "list.reverse()\n",
    "a=tuple(list)\n",
    "print(a)"
   ]
  },
  {
   "cell_type": "code",
   "execution_count": null,
   "id": "320f7b1d",
   "metadata": {},
   "outputs": [],
   "source": [
    "#Write a Python program to replace last value of tuples in a list.\n",
    "tup1=('hello',1,2,3,'ok','good')\n",
    "tup1[:-1] + ('nice',)"
   ]
  },
  {
   "cell_type": "code",
   "execution_count": null,
   "id": "0f12fd3e",
   "metadata": {},
   "outputs": [],
   "source": [
    "#Write a Python program to find the repeated items of a tuple.\n"
   ]
  },
  {
   "cell_type": "code",
   "execution_count": null,
   "id": "7f7eec87",
   "metadata": {},
   "outputs": [],
   "source": [
    "#Write a Python program to remove an empty tuple(s) from a list of tuples. \n",
    "list=[(1,2),(),(3,4),(),(9,2),(7,8)]\n",
    "list.remove(())\n",
    "list.remove(())\n",
    "print(list)"
   ]
  },
  {
   "cell_type": "code",
   "execution_count": null,
   "id": "6b12d86e",
   "metadata": {},
   "outputs": [],
   "source": [
    "#Write a Python program to unzip a list of tuples into individual lists."
   ]
  },
  {
   "cell_type": "code",
   "execution_count": 29,
   "id": "73963a84",
   "metadata": {},
   "outputs": [
    {
     "data": {
      "text/plain": [
       "{1: 2, 3: 4, 'k': 12, 'g': 6}"
      ]
     },
     "execution_count": 29,
     "metadata": {},
     "output_type": "execute_result"
    }
   ],
   "source": [
    "#Write a Python program to convert a list of tuples into a dictionary. \n",
    "tup1=((1,2),(3,4),('k',12),('g',6))\n",
    "dict(tup1)"
   ]
  },
  {
   "cell_type": "code",
   "execution_count": null,
   "id": "fd711855",
   "metadata": {},
   "outputs": [],
   "source": [
    "#How will you create a dictionary using tuples in python?\n",
    "#using typecasting we can convert tuple into dictionary.(Ex:dict(tupple))"
   ]
  },
  {
   "cell_type": "code",
   "execution_count": null,
   "id": "fff9ac90",
   "metadata": {},
   "outputs": [],
   "source": [
    "#Write a Python script to sort (ascending and descending) a dictionary by value. \n",
    "dic1={'a':11,'b':23,'c':78,'d':99,'e':1}\n",
    "a=dic1.values()\n",
    "print(a)\n",
    "b=list(a)\n",
    "b.sort()\n",
    "print(b)"
   ]
  },
  {
   "cell_type": "code",
   "execution_count": null,
   "id": "5ae7aa48",
   "metadata": {},
   "outputs": [],
   "source": [
    "#Write a Python script to concatenate following dictionaries to create a new one.\n",
    "dic1={'dhoni':11,'yuvi':18,'sachin':10}\n",
    "dic2={'irfan':23,'mayur':28}\n",
    "newdict={}\n",
    "newdict.update(dic1)\n",
    "newdict.update(dic2)\n",
    "print(newdict)"
   ]
  },
  {
   "cell_type": "code",
   "execution_count": null,
   "id": "f11d8ba7",
   "metadata": {},
   "outputs": [],
   "source": [
    "#Write a Python script to check if a given key already exists in a dictionary. \n",
    "\n",
    "dict = {'name':'mayur','roll_no':11,'city':'surat'}\n",
    "\n",
    "if 'name' in dict:\n",
    "    print(\"Key 'name' exists in the dictionary.\")\n",
    "else:\n",
    "    print(\"not exist in the dictionary.\")\n"
   ]
  },
  {
   "cell_type": "code",
   "execution_count": null,
   "id": "39bf3759",
   "metadata": {},
   "outputs": [],
   "source": [
    "# How Do You Traverse Through A Dictionary Object In Python? \n",
    "\n",
    "dict = {'name':'mayur','roll_no':11,'city':'surat'}\n",
    "\n",
    "\n",
    "for key in dict:\n",
    "    print(key, \":\", dict[key])\n"
   ]
  },
  {
   "cell_type": "code",
   "execution_count": null,
   "id": "35c24db1",
   "metadata": {},
   "outputs": [],
   "source": [
    "# How Do You Check The Presence Of A Key In A Dictionary?\n",
    "\n",
    "dict = {'name':'mayur','roll_no':11,'city':'surat'}\n",
    "\n",
    "if 'name' in dict:\n",
    "    print(\"Key 'name' exists in the dictionary.\")\n",
    "else:\n",
    "    print(\"not exist in the dictionary.\")\n",
    "    "
   ]
  },
  {
   "cell_type": "code",
   "execution_count": null,
   "id": "db670b18",
   "metadata": {},
   "outputs": [],
   "source": [
    "# Write a Python script to print a dictionary where the keys are numbers between 1 and 15.\n",
    "dict = {}\n",
    "\n",
    "for i in range(1, 16):\n",
    "    dict[i] = i\n",
    "\n",
    "print(dict)\n"
   ]
  },
  {
   "cell_type": "code",
   "execution_count": null,
   "id": "8ee7c0df",
   "metadata": {},
   "outputs": [],
   "source": [
    "#Write a Python program to check multiple keys exists in a dictionary."
   ]
  },
  {
   "cell_type": "code",
   "execution_count": null,
   "id": "d224e16b",
   "metadata": {},
   "outputs": [],
   "source": [
    "#Write a Python script to merge two Python dictionaries\n",
    "dict = {\"name\":\"mayur\",\"surname\":\"chavda\"}\n",
    "dict1 = {\"sub\": \"python\", \"roll\": \"15\"}\n",
    "\n",
    "\n",
    "dict.update(dict1)\n",
    "\n",
    "print(dict)\n"
   ]
  },
  {
   "cell_type": "code",
   "execution_count": null,
   "id": "e501c0e0",
   "metadata": {},
   "outputs": [],
   "source": [
    "#Write a Python program to map two lists into a dictionary"
   ]
  },
  {
   "cell_type": "code",
   "execution_count": null,
   "id": "bd0e19c3",
   "metadata": {},
   "outputs": [],
   "source": [
    "#Write a Python program to combine two dictionary adding values for common keys. \n",
    "#d1 = {'a': 100, 'b': 200, 'c':300} o d2 = {'a': 300, 'b': 200,’d’:400} \n",
    "#Sample output: Counter ({'a': 400, 'b': 400,’d’: 400, 'c': 300}).\n"
   ]
  },
  {
   "cell_type": "code",
   "execution_count": null,
   "id": "7ecbf0a2",
   "metadata": {},
   "outputs": [],
   "source": [
    "# Write a Python program to print all unique values in a dictionary. \n",
    "dict={'a':1,'b':2,'d':2,\"e\":7,\"k\":1}\n",
    "a=dict.values()\n",
    "print(a)\n",
    "x=set(a)\n",
    "print(x)\n",
    "\n"
   ]
  },
  {
   "cell_type": "code",
   "execution_count": null,
   "id": "087168ac",
   "metadata": {},
   "outputs": [],
   "source": [
    "#Write a Python program to create and display all combinations of letters, \n",
    "#selecting each letter from a different key in a dictionary. \n",
    "#Sample data: {'1': ['a','b'], '2': ['c','d']} Expected Output: ac ad bc bd\n",
    "\n",
    "sample_data = {'1': ['a','b'], '2': ['c','d']}\n",
    "\n",
    "list = []\n",
    "for i in sample_data['1']:\n",
    "    for j in sample_data['2']:\n",
    "        list.append(i + j)\n",
    "\n",
    "print(\" \".join(list))\n",
    "\n"
   ]
  },
  {
   "cell_type": "code",
   "execution_count": null,
   "id": "2ab0ef89",
   "metadata": {},
   "outputs": [],
   "source": [
    "#Write a Python program to find the highest 3 values in a dictionary\n",
    "dict={'a':19,'b':21,'c':67,'d':89,'e':12}\n",
    "\n"
   ]
  },
  {
   "cell_type": "code",
   "execution_count": null,
   "id": "bcae7af7",
   "metadata": {},
   "outputs": [],
   "source": [
    "#Write a Python program to combine values in python list of dictionaries. \n",
    "#Sample data: [{'item': 'item1', 'amount': 400}, {'item': 'item2', 'amount': \n",
    "#300}, o {'item': 'item1', 'amount': 750}] \n",
    "#Expected Output:\n",
    "#Counter ({'item1': 1150, 'item2': 300}) \n",
    "\n",
    "sample_data = [{'item': 'item1', 'amount': 400}, {'item': 'item2', 'amount': 300}, {'item': 'item1', 'amount': 750}]\n",
    "\n",
    "counter = {}\n",
    "\n",
    "for d in sample_data:\n",
    "    if d['item'] in counter:\n",
    "        counter[d['item']] += d['amount']\n",
    "    else:\n",
    "        counter[d['item']] = d['amount']\n",
    "\n",
    "print(counter)\n"
   ]
  },
  {
   "cell_type": "code",
   "execution_count": null,
   "id": "0cdbf0e3",
   "metadata": {},
   "outputs": [],
   "source": [
    "# Write a Python program to create a dictionary from a string. \n",
    "#Note: Track the count of the letters from the string. \n",
    "#Sample string: 'w3resource' \n",
    "#Expected output: \n",
    "#{'3': 1,’s’: 1, 'r': 2, 'u': 1, 'w': 1, 'c': 1, 'e': 2, 'o': 1}\n",
    "\n",
    "sample_string = 'w3resource'\n",
    "\n",
    "dic = {}\n",
    "\n",
    "for i in sample_string:\n",
    "    if i in dic:\n",
    "        dic[i] += 1\n",
    "    else:\n",
    "        dic[i] = 1\n",
    "\n",
    "print(dic)\n"
   ]
  },
  {
   "cell_type": "code",
   "execution_count": null,
   "id": "5e359215",
   "metadata": {},
   "outputs": [],
   "source": [
    "#Write a Python function to calculate the factorial of a number (a nonnegative integer) .\n",
    "\n",
    "def facto(n): \n",
    "    res = 1\n",
    "    for i in range(1, n+1):\n",
    "        res *= i\n",
    "    print(res)\n",
    "  \n",
    "facto(5)"
   ]
  },
  {
   "cell_type": "code",
   "execution_count": null,
   "id": "c3ed76cf",
   "metadata": {},
   "outputs": [],
   "source": [
    "# Write a Python function to check whether a number is in a given range.\n",
    "\n",
    "def fun(n, l, u):\n",
    "    if n >= l and n <= u:\n",
    "        return True\n",
    "    else:\n",
    "        return False\n",
    "\n",
    "fun(15,11,20)\n"
   ]
  },
  {
   "cell_type": "code",
   "execution_count": null,
   "id": "6297348e",
   "metadata": {},
   "outputs": [],
   "source": [
    "# Write a Python function to check whether a number is perfect or not. \n"
   ]
  },
  {
   "cell_type": "code",
   "execution_count": null,
   "id": "d1a07a6f",
   "metadata": {},
   "outputs": [],
   "source": [
    "# Write a Python function that checks whether a passed string is palindrome or not "
   ]
  },
  {
   "cell_type": "code",
   "execution_count": null,
   "id": "2f1d1051",
   "metadata": {},
   "outputs": [],
   "source": [
    "#How Many Basic Types Of Functions Are Available In Python?\n",
    "#there are basically three types of function in python.\n",
    "#(1) Built-in functions: Python provides a large number of built-in functions that are ready to use.ex: print(),range(),int() etc.\n",
    "#(2) User-defined functions: Python also allows programmers to create their own functions. These functions are called user-defined functions.\n",
    "#   User-defined functions can be created using the def keyword.\n",
    "#(3) lambda or anonymous function : a lambda function is a small, anonymous function that can be defined without a name. \n",
    "#Lambda functions are defined using the lambda keyword followed by the function parameters and the function body. \n",
    "#syntax : lambda arguments: expression\n"
   ]
  },
  {
   "cell_type": "code",
   "execution_count": null,
   "id": "db3d0c73",
   "metadata": {},
   "outputs": [],
   "source": [
    "#How can you pick a random item from a list or tuple?\n",
    "\n",
    "import random\n",
    "\n",
    "list = [11,22,33,44]\n",
    "a = random.choice(list)\n",
    "print(a)\n",
    "\n",
    "import random\n",
    "tuple = (11,33,55,66)\n",
    "b = random.choice(tuple)\n",
    "print(b)\n"
   ]
  },
  {
   "cell_type": "code",
   "execution_count": null,
   "id": "616c31d7",
   "metadata": {},
   "outputs": [],
   "source": [
    "# How can you pick a random item from a range?\n",
    "\n",
    "import random\n",
    "\n",
    "random_item = random.randint(1, 10)\n",
    "\n",
    "print(random_item)\n",
    "  "
   ]
  },
  {
   "cell_type": "code",
   "execution_count": null,
   "id": "16929795",
   "metadata": {},
   "outputs": [],
   "source": [
    "# How can you get a random number in python?\n",
    "#You can use the random module in Python to generate a random number. ex : import random"
   ]
  },
  {
   "cell_type": "code",
   "execution_count": null,
   "id": "d430808b",
   "metadata": {},
   "outputs": [],
   "source": [
    "#How will you set the starting value in generating random numbers?\n"
   ]
  },
  {
   "cell_type": "code",
   "execution_count": null,
   "id": "d3f4927a",
   "metadata": {},
   "outputs": [],
   "source": [
    "# How will you randomizes the items of a list in place? "
   ]
  },
  {
   "cell_type": "code",
   "execution_count": null,
   "id": "76561e6f",
   "metadata": {},
   "outputs": [],
   "source": [
    "# Write a Python program to read a random line from a file.\n",
    "#f1 = open(\"new.txt\",r)\n",
    "#a.readline()\n",
    "#f1.close()\n"
   ]
  },
  {
   "cell_type": "code",
   "execution_count": null,
   "id": "fd669e26",
   "metadata": {},
   "outputs": [],
   "source": [
    "# Write a Python program to convert degree to radian.\n"
   ]
  },
  {
   "cell_type": "code",
   "execution_count": null,
   "id": "2eea7503",
   "metadata": {},
   "outputs": [],
   "source": [
    "# Write a Python program to calculate the area of a trapezoid."
   ]
  },
  {
   "cell_type": "code",
   "execution_count": null,
   "id": "651f2482",
   "metadata": {},
   "outputs": [],
   "source": [
    "# Write a Python program to calculate the area of a parallelogram.\n",
    "base = 9\n",
    "height = 6\n",
    "\n",
    "area = base * height\n",
    "\n",
    "print(\"The area of the parallelogram is : \",area)\n"
   ]
  },
  {
   "cell_type": "code",
   "execution_count": null,
   "id": "44df18e9",
   "metadata": {},
   "outputs": [],
   "source": [
    "#Write a Python program to calculate surface volume and area of a cylinder."
   ]
  },
  {
   "cell_type": "code",
   "execution_count": null,
   "id": "6a551c3c",
   "metadata": {},
   "outputs": [],
   "source": [
    "# Write a Python program to returns sum of all divisors of a number.\n",
    "\n",
    "n = int(input(\"Enter a number: \"))\n",
    "divisors = []\n",
    "for i in range(1, n + 1):\n",
    "    if n % i == 0:\n",
    "        divisors.append(i)\n",
    "res = sum(divisors)\n",
    "\n",
    "print(\"The sum of all divisors of\", n, \"is\", res)\n"
   ]
  },
  {
   "cell_type": "code",
   "execution_count": 27,
   "id": "0e2a94fd",
   "metadata": {},
   "outputs": [
    {
     "name": "stdout",
     "output_type": "stream",
     "text": [
      "9.6\n",
      "1.1\n"
     ]
    }
   ],
   "source": [
    "#Write a Python program to find the maximum and minimum numbers from the specified decimal numbers.\n",
    "\n",
    "list = [1.1,4.5,2.3,9.6,7.8]\n",
    "list.sort(reverse=True)\n",
    "print(list[0]) #max decimal\n",
    "\n",
    "list= [1.1,4.5,2.3,9.6,7.8]\n",
    "list.sort()\n",
    "print(list[0]) #min decimal\n"
   ]
  }
 ],
 "metadata": {
  "kernelspec": {
   "display_name": "Python 3 (ipykernel)",
   "language": "python",
   "name": "python3"
  },
  "language_info": {
   "codemirror_mode": {
    "name": "ipython",
    "version": 3
   },
   "file_extension": ".py",
   "mimetype": "text/x-python",
   "name": "python",
   "nbconvert_exporter": "python",
   "pygments_lexer": "ipython3",
   "version": "3.10.8"
  }
 },
 "nbformat": 4,
 "nbformat_minor": 5
}
